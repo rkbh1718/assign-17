{
 "cells": [
  {
   "cell_type": "markdown",
   "id": "b7d7871a",
   "metadata": {},
   "source": [
    "# 1. Assign the value 7 to the variable guess_me. Then, write the conditional tests (if, else, and elif) to print the string &#39;too low&#39; if guess_me is less than 7, &#39;too high&#39; if greater than 7, and &#39;just right&#39; if equal to 7."
   ]
  },
  {
   "cell_type": "code",
   "execution_count": 2,
   "id": "df8f066b",
   "metadata": {},
   "outputs": [
    {
     "name": "stdout",
     "output_type": "stream",
     "text": [
      "just right\n"
     ]
    }
   ],
   "source": [
    "guess_me = 7\n",
    "if guess_me < 7:\n",
    "    print(\"too low\")\n",
    "elif guess_me > 7:\n",
    "    print(\"too high\")\n",
    "else:\n",
    "    print(\"just right\")"
   ]
  },
  {
   "cell_type": "markdown",
   "id": "0b03cf25",
   "metadata": {},
   "source": [
    "# 2. Assign the value 7 to the variable guess_me and the value 1 to the variable start. Write a while loop that compares start with guess_me. Print too low if start is less than guess me. If start equals guess_me, print &#39;found it!&#39; and exit the loop. If start is greater than guess_me, print &#39;oops&#39; and exit the loop. Increment start at the end of the loop."
   ]
  },
  {
   "cell_type": "code",
   "execution_count": 3,
   "id": "19866f8a",
   "metadata": {},
   "outputs": [
    {
     "name": "stdout",
     "output_type": "stream",
     "text": [
      "oops\n"
     ]
    }
   ],
   "source": [
    "start =1\n",
    "while start <= guess_me:\n",
    "    if guess_me < start:\n",
    "        print(\"too low\")\n",
    "        break\n",
    "    elif guess_me > start:\n",
    "        print(\"oops\")\n",
    "        break\n",
    "    else:\n",
    "        print(\"found it!\")\n",
    "        break\n",
    "    "
   ]
  },
  {
   "cell_type": "markdown",
   "id": "df4ec568",
   "metadata": {},
   "source": [
    "# 3. Print the following values of the list [3, 2, 1, 0] using a for loop."
   ]
  },
  {
   "cell_type": "code",
   "execution_count": 5,
   "id": "03230877",
   "metadata": {},
   "outputs": [
    {
     "name": "stdout",
     "output_type": "stream",
     "text": [
      "3\n",
      "2\n",
      "1\n",
      "0\n"
     ]
    }
   ],
   "source": [
    "lst =[3,2,1,0]\n",
    "for i in lst:\n",
    "    print(i)"
   ]
  },
  {
   "cell_type": "markdown",
   "id": "e16913b9",
   "metadata": {},
   "source": [
    "# 4. Use a list comprehension to make a list of the even numbers in range(10)"
   ]
  },
  {
   "cell_type": "code",
   "execution_count": 7,
   "id": "fe7b7da5",
   "metadata": {},
   "outputs": [
    {
     "data": {
      "text/plain": [
       "[0, 2, 4, 6, 8]"
      ]
     },
     "execution_count": 7,
     "metadata": {},
     "output_type": "execute_result"
    }
   ],
   "source": [
    "l =[i for i in range(10) if i % 2 == 0]\n",
    "l"
   ]
  },
  {
   "cell_type": "markdown",
   "id": "8457ed14",
   "metadata": {},
   "source": [
    "# 5. Use a dictionary comprehension to create the dictionary squares. Use range(10) to return the keys, and use the square of each key as its value."
   ]
  },
  {
   "cell_type": "code",
   "execution_count": 16,
   "id": "6964b5be",
   "metadata": {},
   "outputs": [
    {
     "data": {
      "text/plain": [
       "{0: 0, 1: 1, 2: 4, 3: 9, 4: 16, 5: 25, 6: 36, 7: 49, 8: 64, 9: 81}"
      ]
     },
     "execution_count": 16,
     "metadata": {},
     "output_type": "execute_result"
    }
   ],
   "source": [
    "d ={k : k**2 for k in range(10) }\n",
    "d"
   ]
  },
  {
   "cell_type": "markdown",
   "id": "bff2a04f",
   "metadata": {},
   "source": [
    "# 6. Construct the set odd from the odd numbers in the range using a set comprehension (10)."
   ]
  },
  {
   "cell_type": "code",
   "execution_count": 18,
   "id": "806de33e",
   "metadata": {},
   "outputs": [
    {
     "data": {
      "text/plain": [
       "{1, 3, 5, 7, 9}"
      ]
     },
     "execution_count": 18,
     "metadata": {},
     "output_type": "execute_result"
    }
   ],
   "source": [
    "s = { x for x in range(10) if x % 2 != 0}\n",
    "s"
   ]
  },
  {
   "cell_type": "markdown",
   "id": "cbdbb006",
   "metadata": {},
   "source": [
    "# 7. Use a generator comprehension to return the string &#39;Got &#39; and a number for the numbers in range(10). Iterate through this by using a for loop."
   ]
  },
  {
   "cell_type": "code",
   "execution_count": 33,
   "id": "d18f86dc",
   "metadata": {},
   "outputs": [
    {
     "name": "stdout",
     "output_type": "stream",
     "text": [
      "Got 0\n",
      "Got 1\n",
      "Got 2\n",
      "Got 3\n",
      "Got 4\n",
      "Got 5\n",
      "Got 6\n",
      "Got 7\n",
      "Got 8\n",
      "Got 9\n"
     ]
    }
   ],
   "source": [
    "gen = ('Got ' + str(num) for num in range(10))\n",
    "for item in gen:\n",
    "    print(item)"
   ]
  },
  {
   "cell_type": "markdown",
   "id": "83810423",
   "metadata": {},
   "source": [
    "# 8. Define a function called good that returns the list [&#39;Harry&#39;, &#39;Ron&#39;, &#39;Hermione&#39;]."
   ]
  },
  {
   "cell_type": "code",
   "execution_count": 19,
   "id": "e26ed25c",
   "metadata": {},
   "outputs": [
    {
     "data": {
      "text/plain": [
       "['Harry', 'Ron', 'Hermione']"
      ]
     },
     "execution_count": 19,
     "metadata": {},
     "output_type": "execute_result"
    }
   ],
   "source": [
    "def good(l):\n",
    "    return l\n",
    "good(['Harry', 'Ron', 'Hermione'])    "
   ]
  },
  {
   "cell_type": "markdown",
   "id": "111b907d",
   "metadata": {},
   "source": [
    "# 9. Define a generator function called get_odds that returns the odd numbers from range(10). Use a for loop to find and print the third value returned."
   ]
  },
  {
   "cell_type": "code",
   "execution_count": 31,
   "id": "92664135",
   "metadata": {},
   "outputs": [
    {
     "name": "stdout",
     "output_type": "stream",
     "text": [
      "5\n"
     ]
    }
   ],
   "source": [
    "get_odds = (num for num in range(10) if not  num % 2 == 0)\n",
    "count =0\n",
    "for num in get_odds:\n",
    "    if count == 2:\n",
    "        print(num)\n",
    "        break\n",
    "    count = count+1\n"
   ]
  },
  {
   "cell_type": "markdown",
   "id": "691c7397",
   "metadata": {},
   "source": [
    "# 10. Define an exception called OopsException. Raise this exception to see what happens. Then write the code to catch this exception and print &#39;Caught an oops&#39;."
   ]
  },
  {
   "cell_type": "code",
   "execution_count": 21,
   "id": "ae220562",
   "metadata": {},
   "outputs": [
    {
     "name": "stdout",
     "output_type": "stream",
     "text": [
      "caught an Exception\n"
     ]
    }
   ],
   "source": [
    "class OopsException(Exception):\n",
    "    pass\n",
    "\n",
    "def exp(x):\n",
    "    if x < 0:\n",
    "        raise OopsException(x)\n",
    "try:\n",
    "    exp(-1)\n",
    "except OopsException as op:\n",
    "    print(\"caught an Exception\")"
   ]
  },
  {
   "cell_type": "markdown",
   "id": "09f82b40",
   "metadata": {},
   "source": [
    "# 11. Use zip() to make a dictionary called movies that pairs these lists: titles = [&#39;Creature of Habit&#39;,&#39;Crewel Fate&#39;] and plots = [&#39;A nun turns into a monster&#39;, &#39;A haunted yarn shop&#39;]."
   ]
  },
  {
   "cell_type": "code",
   "execution_count": 24,
   "id": "f5d59147",
   "metadata": {},
   "outputs": [
    {
     "name": "stdout",
     "output_type": "stream",
     "text": [
      "{'Creature of Habit': 'A nun turns into a monster', 'Crewel Fate': 'A haunted yarn shop'}\n"
     ]
    }
   ],
   "source": [
    "titles = ['Creature of Habit','Crewel Fate']\n",
    "plots = ['A nun turns into a monster', 'A haunted yarn shop']\n",
    "movies={}\n",
    "\n",
    "for title , plot in zip(titles , plots):\n",
    "    movies[title] = plot\n",
    "    \n",
    "print(movies)"
   ]
  },
  {
   "cell_type": "code",
   "execution_count": null,
   "id": "364ff2c3",
   "metadata": {},
   "outputs": [],
   "source": []
  }
 ],
 "metadata": {
  "kernelspec": {
   "display_name": "Python 3",
   "language": "python",
   "name": "python3"
  }
 },
 "nbformat": 4,
 "nbformat_minor": 5
}
